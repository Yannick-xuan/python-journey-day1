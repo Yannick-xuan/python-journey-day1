{
 "cells": [
  {
   "cell_type": "code",
   "execution_count": 2,
   "id": "cc18c00d-16aa-4ac2-9a86-975581cef417",
   "metadata": {},
   "outputs": [
    {
     "name": "stdout",
     "output_type": "stream",
     "text": [
      "my name is yannick\n",
      "Today's date: 2025-07-07\n"
     ]
    }
   ],
   "source": [
    "print(\"my name is yannick\")\n",
    "from datetime import date\n",
    "print(f\"Today's date: {date.today()}\")"
   ]
  },
  {
   "cell_type": "code",
   "execution_count": 3,
   "id": "3a5999ab-1204-44c9-951c-bd3d142aa3bb",
   "metadata": {},
   "outputs": [
    {
     "name": "stdout",
     "output_type": "stream",
     "text": [
      "Array: [1 2 3 4 5]\n",
      "Sum using np.sum(): 15\n",
      "Sum using .sum(): 15\n"
     ]
    }
   ],
   "source": [
    "import numpy as np\n",
    "arr = np.array([1, 2, 3, 4, 5])\n",
    "print(f\"Array: {arr}\")\n",
    "print(f\"Sum using np.sum(): {np.sum(arr)}\")\n",
    "print(f\"Sum using .sum(): {arr.sum()}\")\n"
   ]
  },
  {
   "cell_type": "code",
   "execution_count": null,
   "id": "6a34996b-8758-43b8-ab92-5112ceac13a4",
   "metadata": {},
   "outputs": [],
   "source": []
  }
 ],
 "metadata": {
  "kernelspec": {
   "display_name": "Python 3 (ipykernel)",
   "language": "python",
   "name": "python3"
  },
  "language_info": {
   "codemirror_mode": {
    "name": "ipython",
    "version": 3
   },
   "file_extension": ".py",
   "mimetype": "text/x-python",
   "name": "python",
   "nbconvert_exporter": "python",
   "pygments_lexer": "ipython3",
   "version": "3.10.18"
  }
 },
 "nbformat": 4,
 "nbformat_minor": 5
}
